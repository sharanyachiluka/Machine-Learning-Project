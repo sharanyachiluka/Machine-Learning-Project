{
 "cells": [
  {
   "cell_type": "code",
   "execution_count": 1,
   "metadata": {},
   "outputs": [],
   "source": [
    "import pandas as pd\n",
    "from matplotlib import pyplot\n",
    "import matplotlib.pyplot as plt\n",
    "import matplotlib as mpl\n",
    "import nltk.classify.util\n",
    "from sklearn.model_selection import train_test_split\n",
    "from sklearn.metrics import confusion_matrix\n",
    "from sklearn import metrics\n",
    "from sklearn.metrics import roc_curve, auc\n",
    "from nltk.classify import NaiveBayesClassifier\n",
    "import numpy as np\n",
    "import re\n",
    "import string\n",
    "import nltk\n",
    "%matplotlib inline"
   ]
  },
  {
   "cell_type": "code",
   "execution_count": 2,
   "metadata": {},
   "outputs": [
    {
     "name": "stderr",
     "output_type": "stream",
     "text": [
      "C:\\ProgramData\\Anaconda3\\lib\\site-packages\\IPython\\core\\interactiveshell.py:3057: DtypeWarning: Columns (1,10) have mixed types. Specify dtype option on import or set low_memory=False.\n",
      "  interactivity=interactivity, compiler=compiler, result=result)\n"
     ]
    },
    {
     "data": {
      "text/html": [
       "<div>\n",
       "<style scoped>\n",
       "    .dataframe tbody tr th:only-of-type {\n",
       "        vertical-align: middle;\n",
       "    }\n",
       "\n",
       "    .dataframe tbody tr th {\n",
       "        vertical-align: top;\n",
       "    }\n",
       "\n",
       "    .dataframe thead th {\n",
       "        text-align: right;\n",
       "    }\n",
       "</style>\n",
       "<table border=\"1\" class=\"dataframe\">\n",
       "  <thead>\n",
       "    <tr style=\"text-align: right;\">\n",
       "      <th></th>\n",
       "      <th>id</th>\n",
       "      <th>name</th>\n",
       "      <th>asins</th>\n",
       "      <th>brand</th>\n",
       "      <th>categories</th>\n",
       "      <th>keys</th>\n",
       "      <th>manufacturer</th>\n",
       "      <th>date</th>\n",
       "      <th>dateAdded</th>\n",
       "      <th>dateSeen</th>\n",
       "      <th>...</th>\n",
       "      <th>doRecommend</th>\n",
       "      <th>id</th>\n",
       "      <th>numHelpful</th>\n",
       "      <th>rating</th>\n",
       "      <th>sourceURLs</th>\n",
       "      <th>text</th>\n",
       "      <th>title</th>\n",
       "      <th>userCity</th>\n",
       "      <th>userProvince</th>\n",
       "      <th>username</th>\n",
       "    </tr>\n",
       "  </thead>\n",
       "  <tbody>\n",
       "    <tr>\n",
       "      <th>0</th>\n",
       "      <td>AVqkIhwDv8e3D1O-lebb</td>\n",
       "      <td>All-New Fire HD 8 Tablet, 8 HD Display, Wi-Fi,...</td>\n",
       "      <td>B01AHB9CN2</td>\n",
       "      <td>Amazon</td>\n",
       "      <td>Electronics,iPad &amp; Tablets,All Tablets,Fire Ta...</td>\n",
       "      <td>841667104676,amazon/53004484,amazon/b01ahb9cn2...</td>\n",
       "      <td>Amazon</td>\n",
       "      <td>2017-01-13T00:00:00.000Z</td>\n",
       "      <td>2017-07-03T23:33:15Z</td>\n",
       "      <td>2017-06-07T09:04:00.000Z,2017-04-30T00:45:00.000Z</td>\n",
       "      <td>...</td>\n",
       "      <td>True</td>\n",
       "      <td>NaN</td>\n",
       "      <td>0.0</td>\n",
       "      <td>5.0</td>\n",
       "      <td>http://reviews.bestbuy.com/3545/5620406/review...</td>\n",
       "      <td>This product so far has not disappointed. My c...</td>\n",
       "      <td>Kindle</td>\n",
       "      <td>NaN</td>\n",
       "      <td>NaN</td>\n",
       "      <td>Adapter</td>\n",
       "    </tr>\n",
       "    <tr>\n",
       "      <th>1</th>\n",
       "      <td>AVqkIhwDv8e3D1O-lebb</td>\n",
       "      <td>All-New Fire HD 8 Tablet, 8 HD Display, Wi-Fi,...</td>\n",
       "      <td>B01AHB9CN2</td>\n",
       "      <td>Amazon</td>\n",
       "      <td>Electronics,iPad &amp; Tablets,All Tablets,Fire Ta...</td>\n",
       "      <td>841667104676,amazon/53004484,amazon/b01ahb9cn2...</td>\n",
       "      <td>Amazon</td>\n",
       "      <td>2017-01-13T00:00:00.000Z</td>\n",
       "      <td>2017-07-03T23:33:15Z</td>\n",
       "      <td>2017-06-07T09:04:00.000Z,2017-04-30T00:45:00.000Z</td>\n",
       "      <td>...</td>\n",
       "      <td>True</td>\n",
       "      <td>NaN</td>\n",
       "      <td>0.0</td>\n",
       "      <td>5.0</td>\n",
       "      <td>http://reviews.bestbuy.com/3545/5620406/review...</td>\n",
       "      <td>great for beginner or experienced person. Boug...</td>\n",
       "      <td>very fast</td>\n",
       "      <td>NaN</td>\n",
       "      <td>NaN</td>\n",
       "      <td>truman</td>\n",
       "    </tr>\n",
       "    <tr>\n",
       "      <th>2</th>\n",
       "      <td>AVqkIhwDv8e3D1O-lebb</td>\n",
       "      <td>All-New Fire HD 8 Tablet, 8 HD Display, Wi-Fi,...</td>\n",
       "      <td>B01AHB9CN2</td>\n",
       "      <td>Amazon</td>\n",
       "      <td>Electronics,iPad &amp; Tablets,All Tablets,Fire Ta...</td>\n",
       "      <td>841667104676,amazon/53004484,amazon/b01ahb9cn2...</td>\n",
       "      <td>Amazon</td>\n",
       "      <td>2017-01-13T00:00:00.000Z</td>\n",
       "      <td>2017-07-03T23:33:15Z</td>\n",
       "      <td>2017-06-07T09:04:00.000Z,2017-04-30T00:45:00.000Z</td>\n",
       "      <td>...</td>\n",
       "      <td>True</td>\n",
       "      <td>NaN</td>\n",
       "      <td>0.0</td>\n",
       "      <td>5.0</td>\n",
       "      <td>http://reviews.bestbuy.com/3545/5620406/review...</td>\n",
       "      <td>Inexpensive tablet for him to use and learn on...</td>\n",
       "      <td>Beginner tablet for our 9 year old son.</td>\n",
       "      <td>NaN</td>\n",
       "      <td>NaN</td>\n",
       "      <td>DaveZ</td>\n",
       "    </tr>\n",
       "    <tr>\n",
       "      <th>3</th>\n",
       "      <td>AVqkIhwDv8e3D1O-lebb</td>\n",
       "      <td>All-New Fire HD 8 Tablet, 8 HD Display, Wi-Fi,...</td>\n",
       "      <td>B01AHB9CN2</td>\n",
       "      <td>Amazon</td>\n",
       "      <td>Electronics,iPad &amp; Tablets,All Tablets,Fire Ta...</td>\n",
       "      <td>841667104676,amazon/53004484,amazon/b01ahb9cn2...</td>\n",
       "      <td>Amazon</td>\n",
       "      <td>2017-01-13T00:00:00.000Z</td>\n",
       "      <td>2017-07-03T23:33:15Z</td>\n",
       "      <td>2017-06-07T09:04:00.000Z,2017-04-30T00:45:00.000Z</td>\n",
       "      <td>...</td>\n",
       "      <td>True</td>\n",
       "      <td>NaN</td>\n",
       "      <td>0.0</td>\n",
       "      <td>4.0</td>\n",
       "      <td>http://reviews.bestbuy.com/3545/5620406/review...</td>\n",
       "      <td>I've had my Fire HD 8 two weeks now and I love...</td>\n",
       "      <td>Good!!!</td>\n",
       "      <td>NaN</td>\n",
       "      <td>NaN</td>\n",
       "      <td>Shacks</td>\n",
       "    </tr>\n",
       "    <tr>\n",
       "      <th>4</th>\n",
       "      <td>AVqkIhwDv8e3D1O-lebb</td>\n",
       "      <td>All-New Fire HD 8 Tablet, 8 HD Display, Wi-Fi,...</td>\n",
       "      <td>B01AHB9CN2</td>\n",
       "      <td>Amazon</td>\n",
       "      <td>Electronics,iPad &amp; Tablets,All Tablets,Fire Ta...</td>\n",
       "      <td>841667104676,amazon/53004484,amazon/b01ahb9cn2...</td>\n",
       "      <td>Amazon</td>\n",
       "      <td>2017-01-12T00:00:00.000Z</td>\n",
       "      <td>2017-07-03T23:33:15Z</td>\n",
       "      <td>2017-06-07T09:04:00.000Z,2017-04-30T00:45:00.000Z</td>\n",
       "      <td>...</td>\n",
       "      <td>True</td>\n",
       "      <td>NaN</td>\n",
       "      <td>0.0</td>\n",
       "      <td>5.0</td>\n",
       "      <td>http://reviews.bestbuy.com/3545/5620406/review...</td>\n",
       "      <td>I bought this for my grand daughter when she c...</td>\n",
       "      <td>Fantastic Tablet for kids</td>\n",
       "      <td>NaN</td>\n",
       "      <td>NaN</td>\n",
       "      <td>explore42</td>\n",
       "    </tr>\n",
       "  </tbody>\n",
       "</table>\n",
       "<p>5 rows × 21 columns</p>\n",
       "</div>"
      ],
      "text/plain": [
       "                     id                                               name  \\\n",
       "0  AVqkIhwDv8e3D1O-lebb  All-New Fire HD 8 Tablet, 8 HD Display, Wi-Fi,...   \n",
       "1  AVqkIhwDv8e3D1O-lebb  All-New Fire HD 8 Tablet, 8 HD Display, Wi-Fi,...   \n",
       "2  AVqkIhwDv8e3D1O-lebb  All-New Fire HD 8 Tablet, 8 HD Display, Wi-Fi,...   \n",
       "3  AVqkIhwDv8e3D1O-lebb  All-New Fire HD 8 Tablet, 8 HD Display, Wi-Fi,...   \n",
       "4  AVqkIhwDv8e3D1O-lebb  All-New Fire HD 8 Tablet, 8 HD Display, Wi-Fi,...   \n",
       "\n",
       "        asins   brand                                         categories  \\\n",
       "0  B01AHB9CN2  Amazon  Electronics,iPad & Tablets,All Tablets,Fire Ta...   \n",
       "1  B01AHB9CN2  Amazon  Electronics,iPad & Tablets,All Tablets,Fire Ta...   \n",
       "2  B01AHB9CN2  Amazon  Electronics,iPad & Tablets,All Tablets,Fire Ta...   \n",
       "3  B01AHB9CN2  Amazon  Electronics,iPad & Tablets,All Tablets,Fire Ta...   \n",
       "4  B01AHB9CN2  Amazon  Electronics,iPad & Tablets,All Tablets,Fire Ta...   \n",
       "\n",
       "                                                keys manufacturer  \\\n",
       "0  841667104676,amazon/53004484,amazon/b01ahb9cn2...       Amazon   \n",
       "1  841667104676,amazon/53004484,amazon/b01ahb9cn2...       Amazon   \n",
       "2  841667104676,amazon/53004484,amazon/b01ahb9cn2...       Amazon   \n",
       "3  841667104676,amazon/53004484,amazon/b01ahb9cn2...       Amazon   \n",
       "4  841667104676,amazon/53004484,amazon/b01ahb9cn2...       Amazon   \n",
       "\n",
       "                       date             dateAdded  \\\n",
       "0  2017-01-13T00:00:00.000Z  2017-07-03T23:33:15Z   \n",
       "1  2017-01-13T00:00:00.000Z  2017-07-03T23:33:15Z   \n",
       "2  2017-01-13T00:00:00.000Z  2017-07-03T23:33:15Z   \n",
       "3  2017-01-13T00:00:00.000Z  2017-07-03T23:33:15Z   \n",
       "4  2017-01-12T00:00:00.000Z  2017-07-03T23:33:15Z   \n",
       "\n",
       "                                            dateSeen  ... doRecommend  id  \\\n",
       "0  2017-06-07T09:04:00.000Z,2017-04-30T00:45:00.000Z  ...        True NaN   \n",
       "1  2017-06-07T09:04:00.000Z,2017-04-30T00:45:00.000Z  ...        True NaN   \n",
       "2  2017-06-07T09:04:00.000Z,2017-04-30T00:45:00.000Z  ...        True NaN   \n",
       "3  2017-06-07T09:04:00.000Z,2017-04-30T00:45:00.000Z  ...        True NaN   \n",
       "4  2017-06-07T09:04:00.000Z,2017-04-30T00:45:00.000Z  ...        True NaN   \n",
       "\n",
       "   numHelpful  rating                                         sourceURLs  \\\n",
       "0         0.0     5.0  http://reviews.bestbuy.com/3545/5620406/review...   \n",
       "1         0.0     5.0  http://reviews.bestbuy.com/3545/5620406/review...   \n",
       "2         0.0     5.0  http://reviews.bestbuy.com/3545/5620406/review...   \n",
       "3         0.0     4.0  http://reviews.bestbuy.com/3545/5620406/review...   \n",
       "4         0.0     5.0  http://reviews.bestbuy.com/3545/5620406/review...   \n",
       "\n",
       "                                                text  \\\n",
       "0  This product so far has not disappointed. My c...   \n",
       "1  great for beginner or experienced person. Boug...   \n",
       "2  Inexpensive tablet for him to use and learn on...   \n",
       "3  I've had my Fire HD 8 two weeks now and I love...   \n",
       "4  I bought this for my grand daughter when she c...   \n",
       "\n",
       "                                     title userCity  userProvince   username  \n",
       "0                                   Kindle      NaN           NaN    Adapter  \n",
       "1                                very fast      NaN           NaN     truman  \n",
       "2  Beginner tablet for our 9 year old son.      NaN           NaN      DaveZ  \n",
       "3                                  Good!!!      NaN           NaN     Shacks  \n",
       "4                Fantastic Tablet for kids      NaN           NaN  explore42  \n",
       "\n",
       "[5 rows x 21 columns]"
      ]
     },
     "execution_count": 2,
     "metadata": {},
     "output_type": "execute_result"
    }
   ],
   "source": [
    "df = pd.read_csv(\"1429_1.csv\", header=0)\n",
    "df.columns = ['id', 'name', 'asins', 'brand', 'categories', 'keys', 'manufacturer','date', 'dateAdded', 'dateSeen',\n",
    "       'didPurchase', 'doRecommend', 'id','numHelpful', 'rating', 'sourceURLs','text', 'title', 'userCity',\n",
    "       'userProvince', 'username']\n",
    "df.head()"
   ]
  },
  {
   "cell_type": "code",
   "execution_count": 3,
   "metadata": {},
   "outputs": [
    {
     "data": {
      "text/plain": [
       "(34660, 21)"
      ]
     },
     "execution_count": 3,
     "metadata": {},
     "output_type": "execute_result"
    }
   ],
   "source": [
    "df.shape"
   ]
  },
  {
   "cell_type": "code",
   "execution_count": 4,
   "metadata": {},
   "outputs": [
    {
     "name": "stdout",
     "output_type": "stream",
     "text": [
      "Total ratings : 34658\n",
      "Total users : 26789\n",
      "Total no of users giving bulk ratings (more than 10) : 146\n",
      "Total Bulk ratings : 3160\n",
      "Populations of bulk ratings : 9.117664031392463\n",
      "Populations of bulk users : 0.5449998133562283\n"
     ]
    },
    {
     "data": {
      "text/plain": [
       "<matplotlib.axes._subplots.AxesSubplot at 0x22664391a90>"
      ]
     },
     "execution_count": 4,
     "metadata": {},
     "output_type": "execute_result"
    },
    {
     "data": {
      "image/png": "[encoded data removed]",
      "text/plain": [
       "<Figure size 720x1008 with 1 Axes>"
      ]
     },
     "metadata": {},
     "output_type": "display_data"
    }
   ],
   "source": [
    "#Are all the reviews given by same group of users?\n",
    "rating_per_person=df.username.value_counts()\n",
    "#print(rating_per_person)\n",
    "\n",
    "#ratings \n",
    "print (\"Total ratings : \" + str(sum(rating_per_person)))\n",
    "print (\"Total users : \" + str(len(rating_per_person)))\n",
    "print(\"Total no of users giving bulk ratings (more than 10) : \" + str(sum(rating_per_person >10)))\n",
    "\n",
    "bulk_rating = rating_per_person[rating_per_person >10]\n",
    "#print(bulk)\n",
    "bulk_rating_sum = sum(bulk_rating)\n",
    "\n",
    "print (\"Total Bulk ratings : \" + str(bulk_rating_sum))\n",
    "print (\"Populations of bulk ratings : \" + str(bulk_rating_sum*100/sum(rating_per_person)))\n",
    "print (\"Populations of bulk users : \" + str(sum(rating_per_person >10)*100/len(rating_per_person)))\n",
    "\n",
    "rating_per_person.value_counts().plot(kind='Pie',figsize=(10,14), title='Ratings Per User')\n",
    "\n",
    "#import seaborn as sns\n",
    "#sns.countplot(x='reviews.rating', data=df)"
   ]
  },
  {
   "cell_type": "code",
   "execution_count": 5,
   "metadata": {},
   "outputs": [
    {
     "name": "stdout",
     "output_type": "stream",
     "text": [
      "[<matplotlib.axes._subplots.AxesSubplot object at 0x0000022663A5B9E8>\n",
      " <matplotlib.axes._subplots.AxesSubplot object at 0x0000022664733CC0>]\n",
      "count    3158.000000\n",
      "mean        4.593414\n",
      "std         0.732940\n",
      "min         1.000000\n",
      "25%         4.000000\n",
      "50%         5.000000\n",
      "75%         5.000000\n",
      "max         5.000000\n",
      "Name: rating, dtype: float64\n",
      "count    31469.000000\n",
      "mean         4.583686\n",
      "std          0.735930\n",
      "min          1.000000\n",
      "25%          4.000000\n",
      "50%          5.000000\n",
      "75%          5.000000\n",
      "max          5.000000\n",
      "Name: rating, dtype: float64\n"
     ]
    },
    {
     "data": {
      "image/png": "[encoded data removed]",
      "text/plain": [
       "<Figure size 432x288 with 2 Axes>"
      ]
     },
     "metadata": {
      "needs_background": "light"
     },
     "output_type": "display_data"
    }
   ],
   "source": [
    "#bulk users\n",
    "df['bulk']= df['username'].apply(lambda x : 1 if x in bulk_rating.index else 0)\n",
    "#gives us the category whether a rating is bulk or not\n",
    "#series.hist(by=series)\n",
    "print(df.rating.hist(by=df.bulk))\n",
    "print(df[df.bulk==1].rating.describe())\n",
    "print(df[df.bulk==0].rating.describe())"
   ]
  },
  {
   "cell_type": "code",
   "execution_count": 6,
   "metadata": {},
   "outputs": [
    {
     "name": "stdout",
     "output_type": "stream",
     "text": [
      "*** Rating distribution ***\n",
      "5.0    23775\n",
      "4.0     8541\n",
      "3.0     1499\n",
      "1.0      410\n",
      "2.0      402\n",
      "Name: rating, dtype: int64\n"
     ]
    },
    {
     "data": {
      "text/plain": [
       "<matplotlib.axes._subplots.AxesSubplot at 0x226648ad860>"
      ]
     },
     "execution_count": 6,
     "metadata": {},
     "output_type": "execute_result"
    },
    {
     "data": {
      "image/png": "[encoded data removed]",
      "text/plain": [
       "<Figure size 432x288 with 1 Axes>"
      ]
     },
     "metadata": {
      "needs_background": "light"
     },
     "output_type": "display_data"
    }
   ],
   "source": [
    "rate_dist = df.rating.value_counts()\n",
    "print(\"*** Rating distribution ***\")\n",
    "print(rate_dist)\n",
    "\n",
    "import seaborn as sns\n",
    "sns.countplot(x='rating', data=df)"
   ]
  },
  {
   "cell_type": "code",
   "execution_count": 7,
   "metadata": {},
   "outputs": [
    {
     "name": "stdout",
     "output_type": "stream",
     "text": [
      "rating      33\n",
      "text         1\n",
      "title        5\n",
      "username     2\n",
      "dtype: int64\n"
     ]
    },
    {
     "data": {
      "text/html": [
       "<div>\n",
       "<style scoped>\n",
       "    .dataframe tbody tr th:only-of-type {\n",
       "        vertical-align: middle;\n",
       "    }\n",
       "\n",
       "    .dataframe tbody tr th {\n",
       "        vertical-align: top;\n",
       "    }\n",
       "\n",
       "    .dataframe thead th {\n",
       "        text-align: right;\n",
       "    }\n",
       "</style>\n",
       "<table border=\"1\" class=\"dataframe\">\n",
       "  <thead>\n",
       "    <tr style=\"text-align: right;\">\n",
       "      <th></th>\n",
       "      <th>rating</th>\n",
       "      <th>text</th>\n",
       "      <th>title</th>\n",
       "      <th>username</th>\n",
       "    </tr>\n",
       "  </thead>\n",
       "  <tbody>\n",
       "    <tr>\n",
       "      <th>0</th>\n",
       "      <td>5.0</td>\n",
       "      <td>This product so far has not disappointed. My c...</td>\n",
       "      <td>Kindle</td>\n",
       "      <td>Adapter</td>\n",
       "    </tr>\n",
       "    <tr>\n",
       "      <th>1</th>\n",
       "      <td>5.0</td>\n",
       "      <td>great for beginner or experienced person. Boug...</td>\n",
       "      <td>very fast</td>\n",
       "      <td>truman</td>\n",
       "    </tr>\n",
       "    <tr>\n",
       "      <th>2</th>\n",
       "      <td>5.0</td>\n",
       "      <td>Inexpensive tablet for him to use and learn on...</td>\n",
       "      <td>Beginner tablet for our 9 year old son.</td>\n",
       "      <td>DaveZ</td>\n",
       "    </tr>\n",
       "    <tr>\n",
       "      <th>3</th>\n",
       "      <td>4.0</td>\n",
       "      <td>I've had my Fire HD 8 two weeks now and I love...</td>\n",
       "      <td>Good!!!</td>\n",
       "      <td>Shacks</td>\n",
       "    </tr>\n",
       "    <tr>\n",
       "      <th>4</th>\n",
       "      <td>5.0</td>\n",
       "      <td>I bought this for my grand daughter when she c...</td>\n",
       "      <td>Fantastic Tablet for kids</td>\n",
       "      <td>explore42</td>\n",
       "    </tr>\n",
       "  </tbody>\n",
       "</table>\n",
       "</div>"
      ],
      "text/plain": [
       "   rating                                               text  \\\n",
       "0     5.0  This product so far has not disappointed. My c...   \n",
       "1     5.0  great for beginner or experienced person. Boug...   \n",
       "2     5.0  Inexpensive tablet for him to use and learn on...   \n",
       "3     4.0  I've had my Fire HD 8 two weeks now and I love...   \n",
       "4     5.0  I bought this for my grand daughter when she c...   \n",
       "\n",
       "                                     title   username  \n",
       "0                                   Kindle    Adapter  \n",
       "1                                very fast     truman  \n",
       "2  Beginner tablet for our 9 year old son.      DaveZ  \n",
       "3                                  Good!!!     Shacks  \n",
       "4                Fantastic Tablet for kids  explore42  "
      ]
     },
     "execution_count": 7,
     "metadata": {},
     "output_type": "execute_result"
    }
   ],
   "source": [
    "main_df = df[['rating' , 'text' , 'title' , 'username']]\n",
    "print(main_df.isnull().sum()) \n",
    "main_df.head()"
   ]
  },
  {
   "cell_type": "code",
   "execution_count": 8,
   "metadata": {},
   "outputs": [
    {
     "data": {
      "text/html": [
       "<div>\n",
       "<style scoped>\n",
       "    .dataframe tbody tr th:only-of-type {\n",
       "        vertical-align: middle;\n",
       "    }\n",
       "\n",
       "    .dataframe tbody tr th {\n",
       "        vertical-align: top;\n",
       "    }\n",
       "\n",
       "    .dataframe thead th {\n",
       "        text-align: right;\n",
       "    }\n",
       "</style>\n",
       "<table border=\"1\" class=\"dataframe\">\n",
       "  <thead>\n",
       "    <tr style=\"text-align: right;\">\n",
       "      <th></th>\n",
       "      <th>rating</th>\n",
       "      <th>text</th>\n",
       "      <th>title</th>\n",
       "      <th>username</th>\n",
       "    </tr>\n",
       "  </thead>\n",
       "  <tbody>\n",
       "    <tr>\n",
       "      <th>2886</th>\n",
       "      <td>NaN</td>\n",
       "      <td>The Kindle is my first e-ink reader. I own an ...</td>\n",
       "      <td>Worth the money. Not perfect, but very very go...</td>\n",
       "      <td>Jeffrey Stanley</td>\n",
       "    </tr>\n",
       "    <tr>\n",
       "      <th>2887</th>\n",
       "      <td>NaN</td>\n",
       "      <td>I'm a first-time Kindle owner, so I have nothi...</td>\n",
       "      <td>I Wanted a Dedicated E-Reader, and That's What...</td>\n",
       "      <td>Matthew Coenen</td>\n",
       "    </tr>\n",
       "    <tr>\n",
       "      <th>2888</th>\n",
       "      <td>NaN</td>\n",
       "      <td>UPDATE NOVEMBER 2011:My review is now over a y...</td>\n",
       "      <td>Kindle vs. Nook (updated)</td>\n",
       "      <td>Ron Cronovich</td>\n",
       "    </tr>\n",
       "    <tr>\n",
       "      <th>2889</th>\n",
       "      <td>NaN</td>\n",
       "      <td>I'm a first-time Kindle owner, so I have nothi...</td>\n",
       "      <td>I Wanted a Dedicated E-Reader, and That's What...</td>\n",
       "      <td>Matthew Coenen</td>\n",
       "    </tr>\n",
       "    <tr>\n",
       "      <th>2890</th>\n",
       "      <td>NaN</td>\n",
       "      <td>I woke up to a nice surprise this morning: a n...</td>\n",
       "      <td>Not the perfect do-it-all device, but very clo...</td>\n",
       "      <td>C. Tipton</td>\n",
       "    </tr>\n",
       "  </tbody>\n",
       "</table>\n",
       "</div>"
      ],
      "text/plain": [
       "      rating                                               text  \\\n",
       "2886     NaN  The Kindle is my first e-ink reader. I own an ...   \n",
       "2887     NaN  I'm a first-time Kindle owner, so I have nothi...   \n",
       "2888     NaN  UPDATE NOVEMBER 2011:My review is now over a y...   \n",
       "2889     NaN  I'm a first-time Kindle owner, so I have nothi...   \n",
       "2890     NaN  I woke up to a nice surprise this morning: a n...   \n",
       "\n",
       "                                                  title         username  \n",
       "2886  Worth the money. Not perfect, but very very go...  Jeffrey Stanley  \n",
       "2887  I Wanted a Dedicated E-Reader, and That's What...   Matthew Coenen  \n",
       "2888                          Kindle vs. Nook (updated)    Ron Cronovich  \n",
       "2889  I Wanted a Dedicated E-Reader, and That's What...   Matthew Coenen  \n",
       "2890  Not the perfect do-it-all device, but very clo...        C. Tipton  "
      ]
     },
     "execution_count": 8,
     "metadata": {},
     "output_type": "execute_result"
    }
   ],
   "source": [
    "#Filtering null values\n",
    "check_df =  main_df[main_df[\"rating\"].isnull()]\n",
    "check_df.head()"
   ]
  },
  {
   "cell_type": "code",
   "execution_count": 9,
   "metadata": {},
   "outputs": [
    {
     "data": {
      "text/html": [
       "<div>\n",
       "<style scoped>\n",
       "    .dataframe tbody tr th:only-of-type {\n",
       "        vertical-align: middle;\n",
       "    }\n",
       "\n",
       "    .dataframe tbody tr th {\n",
       "        vertical-align: top;\n",
       "    }\n",
       "\n",
       "    .dataframe thead th {\n",
       "        text-align: right;\n",
       "    }\n",
       "</style>\n",
       "<table border=\"1\" class=\"dataframe\">\n",
       "  <thead>\n",
       "    <tr style=\"text-align: right;\">\n",
       "      <th></th>\n",
       "      <th>rating</th>\n",
       "      <th>text</th>\n",
       "      <th>title</th>\n",
       "      <th>username</th>\n",
       "    </tr>\n",
       "  </thead>\n",
       "  <tbody>\n",
       "    <tr>\n",
       "      <th>0</th>\n",
       "      <td>5.0</td>\n",
       "      <td>This product so far has not disappointed. My c...</td>\n",
       "      <td>Kindle</td>\n",
       "      <td>Adapter</td>\n",
       "    </tr>\n",
       "    <tr>\n",
       "      <th>1</th>\n",
       "      <td>5.0</td>\n",
       "      <td>great for beginner or experienced person. Boug...</td>\n",
       "      <td>very fast</td>\n",
       "      <td>truman</td>\n",
       "    </tr>\n",
       "    <tr>\n",
       "      <th>2</th>\n",
       "      <td>5.0</td>\n",
       "      <td>Inexpensive tablet for him to use and learn on...</td>\n",
       "      <td>Beginner tablet for our 9 year old son.</td>\n",
       "      <td>DaveZ</td>\n",
       "    </tr>\n",
       "    <tr>\n",
       "      <th>3</th>\n",
       "      <td>4.0</td>\n",
       "      <td>I've had my Fire HD 8 two weeks now and I love...</td>\n",
       "      <td>Good!!!</td>\n",
       "      <td>Shacks</td>\n",
       "    </tr>\n",
       "    <tr>\n",
       "      <th>4</th>\n",
       "      <td>5.0</td>\n",
       "      <td>I bought this for my grand daughter when she c...</td>\n",
       "      <td>Fantastic Tablet for kids</td>\n",
       "      <td>explore42</td>\n",
       "    </tr>\n",
       "  </tbody>\n",
       "</table>\n",
       "</div>"
      ],
      "text/plain": [
       "   rating                                               text  \\\n",
       "0     5.0  This product so far has not disappointed. My c...   \n",
       "1     5.0  great for beginner or experienced person. Boug...   \n",
       "2     5.0  Inexpensive tablet for him to use and learn on...   \n",
       "3     4.0  I've had my Fire HD 8 two weeks now and I love...   \n",
       "4     5.0  I bought this for my grand daughter when she c...   \n",
       "\n",
       "                                     title   username  \n",
       "0                                   Kindle    Adapter  \n",
       "1                                very fast     truman  \n",
       "2  Beginner tablet for our 9 year old son.      DaveZ  \n",
       "3                                  Good!!!     Shacks  \n",
       "4                Fantastic Tablet for kids  explore42  "
      ]
     },
     "execution_count": 9,
     "metadata": {},
     "output_type": "execute_result"
    }
   ],
   "source": [
    "#Filtering not null values\n",
    "senti_df= main_df[main_df[\"rating\"].notnull()]\n",
    "senti_df.head()"
   ]
  },
  {
   "cell_type": "code",
   "execution_count": 10,
   "metadata": {},
   "outputs": [
    {
     "name": "stderr",
     "output_type": "stream",
     "text": [
      "C:\\ProgramData\\Anaconda3\\lib\\site-packages\\ipykernel_launcher.py:2: SettingWithCopyWarning: \n",
      "A value is trying to be set on a copy of a slice from a DataFrame.\n",
      "Try using .loc[row_indexer,col_indexer] = value instead\n",
      "\n",
      "See the caveats in the documentation: http://pandas.pydata.org/pandas-docs/stable/indexing.html#indexing-view-versus-copy\n",
      "  \n",
      "C:\\ProgramData\\Anaconda3\\lib\\site-packages\\ipykernel_launcher.py:3: SettingWithCopyWarning: \n",
      "A value is trying to be set on a copy of a slice from a DataFrame.\n",
      "Try using .loc[row_indexer,col_indexer] = value instead\n",
      "\n",
      "See the caveats in the documentation: http://pandas.pydata.org/pandas-docs/stable/indexing.html#indexing-view-versus-copy\n",
      "  This is separate from the ipykernel package so we can avoid doing imports until\n"
     ]
    },
    {
     "data": {
      "text/plain": [
       "<matplotlib.axes._subplots.AxesSubplot at 0x22663a5ba20>"
      ]
     },
     "execution_count": 10,
     "metadata": {},
     "output_type": "execute_result"
    },
    {
     "data": {
      "image/png": "[encoded data removed]",
      "text/plain": [
       "<Figure size 432x288 with 1 Axes>"
      ]
     },
     "metadata": {
      "needs_background": "light"
     },
     "output_type": "display_data"
    }
   ],
   "source": [
    "# Classifying review as positive and negative based on rating  \n",
    "senti_df[\"senti\"] = senti_df[\"rating\"]>=4\n",
    "senti_df[\"senti\"] = senti_df[\"senti\"].replace([True , False] , [\"pos\" , \"neg\"])\n",
    "senti_df[\"senti\"].value_counts().plot.bar()\n",
    "#print(senti_df)"
   ]
  },
  {
   "cell_type": "code",
   "execution_count": 11,
   "metadata": {},
   "outputs": [
    {
     "name": "stderr",
     "output_type": "stream",
     "text": [
      "C:\\ProgramData\\Anaconda3\\lib\\site-packages\\ipykernel_launcher.py:17: SettingWithCopyWarning: \n",
      "A value is trying to be set on a copy of a slice from a DataFrame.\n",
      "Try using .loc[row_indexer,col_indexer] = value instead\n",
      "\n",
      "See the caveats in the documentation: http://pandas.pydata.org/pandas-docs/stable/indexing.html#indexing-view-versus-copy\n",
      "C:\\ProgramData\\Anaconda3\\lib\\site-packages\\ipykernel_launcher.py:18: SettingWithCopyWarning: \n",
      "A value is trying to be set on a copy of a slice from a DataFrame.\n",
      "Try using .loc[row_indexer,col_indexer] = value instead\n",
      "\n",
      "See the caveats in the documentation: http://pandas.pydata.org/pandas-docs/stable/indexing.html#indexing-view-versus-copy\n"
     ]
    }
   ],
   "source": [
    "#cleaning\n",
    "import nltk.classify.util\n",
    "from nltk.classify import NaiveBayesClassifier\n",
    "import numpy as np\n",
    "import re\n",
    "import string\n",
    "import nltk\n",
    "\n",
    "cleanup_re = re.compile('[^a-z]+')\n",
    "def cleanup(sentence):\n",
    "    sentence = str(sentence)\n",
    "    sentence = sentence.lower()\n",
    "    sentence = cleanup_re.sub(' ', sentence).strip()\n",
    "    #sentence = \" \".join(nltk.word_tokenize(sentence))\n",
    "    return sentence\n",
    "\n",
    "senti_df[\"Summary_Clean\"] = senti_df[\"text\"].apply(cleanup)\n",
    "check_df[\"Summary_Clean\"] = check_df[\"text\"].apply(cleanup)\n",
    "#print(check_df)"
   ]
  },
  {
   "cell_type": "code",
   "execution_count": 12,
   "metadata": {},
   "outputs": [
    {
     "name": "stderr",
     "output_type": "stream",
     "text": [
      "[nltk_data] Downloading package wordnet to\n",
      "[nltk_data]     C:\\Users\\balam\\AppData\\Roaming\\nltk_data...\n",
      "[nltk_data]   Package wordnet is already up-to-date!\n",
      "C:\\ProgramData\\Anaconda3\\lib\\site-packages\\ipykernel_launcher.py:9: SettingWithCopyWarning: \n",
      "A value is trying to be set on a copy of a slice from a DataFrame.\n",
      "Try using .loc[row_indexer,col_indexer] = value instead\n",
      "\n",
      "See the caveats in the documentation: http://pandas.pydata.org/pandas-docs/stable/indexing.html#indexing-view-versus-copy\n",
      "  if __name__ == '__main__':\n",
      "C:\\ProgramData\\Anaconda3\\lib\\site-packages\\ipykernel_launcher.py:10: SettingWithCopyWarning: \n",
      "A value is trying to be set on a copy of a slice from a DataFrame.\n",
      "Try using .loc[row_indexer,col_indexer] = value instead\n",
      "\n",
      "See the caveats in the documentation: http://pandas.pydata.org/pandas-docs/stable/indexing.html#indexing-view-versus-copy\n",
      "  # Remove the CWD from sys.path while we load stuff.\n"
     ]
    }
   ],
   "source": [
    "from nltk.stem import WordNetLemmatizer\n",
    "import nltk \n",
    "nltk.download('wordnet')\n",
    "\n",
    "lemmatizer = WordNetLemmatizer()\n",
    "def lemmatize_words(text):\n",
    "    return \" \".join([lemmatizer.lemmatize(word) for word in text.split()])\n",
    "\n",
    "senti_df[\"Summary_Clean\"] = senti_df[\"Summary_Clean\"].apply(lambda text: lemmatize_words(text))\n",
    "check_df[\"Summary_Clean\"] = check_df[\"Summary_Clean\"].apply(lambda text: lemmatize_words(text))\n",
    "\n",
    "#senti_df.head()"
   ]
  },
  {
   "cell_type": "code",
   "execution_count": 13,
   "metadata": {},
   "outputs": [],
   "source": [
    "#Splitting Train and Test Data\n",
    "split = senti_df[[\"Summary_Clean\" , \"senti\"]]\n",
    "#print(split)\n",
    "train=split.sample(frac=0.8,random_state=200)\n",
    "test=split.drop(train.index)"
   ]
  },
  {
   "cell_type": "code",
   "execution_count": 14,
   "metadata": {},
   "outputs": [],
   "source": [
    "#Feature Extracter for NLTK Naive bayes classifier\n",
    "def word_feats(words):\n",
    "    features = {}\n",
    "    for word in words:\n",
    "        features [word] = True\n",
    "    return features"
   ]
  },
  {
   "cell_type": "code",
   "execution_count": 15,
   "metadata": {},
   "outputs": [
    {
     "name": "stderr",
     "output_type": "stream",
     "text": [
      "C:\\ProgramData\\Anaconda3\\lib\\site-packages\\ipykernel_launcher.py:3: SettingWithCopyWarning: \n",
      "A value is trying to be set on a copy of a slice from a DataFrame.\n",
      "Try using .loc[row_indexer,col_indexer] = value instead\n",
      "\n",
      "See the caveats in the documentation: http://pandas.pydata.org/pandas-docs/stable/indexing.html#indexing-view-versus-copy\n",
      "  This is separate from the ipykernel package so we can avoid doing imports until\n"
     ]
    },
    {
     "name": "stdout",
     "output_type": "stream",
     "text": [
      "NLTK Naive bayes Accuracy : 0.592057761732852\n",
      "Most Informative Features\n",
      "                 deleted = True              neg : pos    =     51.3 : 1.0\n",
      "                 warning = True              neg : pos    =     51.3 : 1.0\n",
      "                    nope = True              neg : pos    =     42.0 : 1.0\n",
      "                  rotate = True              neg : pos    =     42.0 : 1.0\n",
      "                    bent = True              neg : pos    =     42.0 : 1.0\n",
      "               defective = True              neg : pos    =     39.4 : 1.0\n",
      "                  refund = True              neg : pos    =     34.3 : 1.0\n",
      "               returning = True              neg : pos    =     33.4 : 1.0\n",
      "                    clue = True              neg : pos    =     32.6 : 1.0\n",
      "                textured = True              neg : pos    =     32.6 : 1.0\n",
      "              lackluster = True              neg : pos    =     32.6 : 1.0\n",
      "                secondly = True              neg : pos    =     32.6 : 1.0\n",
      "                   avail = True              neg : pos    =     32.6 : 1.0\n",
      "                 assured = True              neg : pos    =     32.6 : 1.0\n",
      "                securely = True              neg : pos    =     32.6 : 1.0\n",
      "               appearing = True              neg : pos    =     32.6 : 1.0\n",
      "                     oem = True              neg : pos    =     30.8 : 1.0\n",
      "                 refused = True              neg : pos    =     30.8 : 1.0\n",
      "                unusable = True              neg : pos    =     25.2 : 1.0\n",
      "                    logo = True              neg : pos    =     25.2 : 1.0\n"
     ]
    }
   ],
   "source": [
    "train[\"words\"] = train[\"Summary_Clean\"].str.lower().str.split()\n",
    "test[\"words\"] = test[\"Summary_Clean\"].str.lower().str.split()\n",
    "check_df[\"words\"] = check_df[\"Summary_Clean\"].str.lower().str.split()\n",
    "\n",
    "train.index = range(train.shape[0])\n",
    "#print(check.shape[0])\n",
    "test.index = range(test.shape[0])\n",
    "check_df.index = range(check_df.shape[0])\n",
    "prediction =  {}  # For storing results of different classifiers\n",
    "\n",
    "train_naive = []\n",
    "test_naive = []\n",
    "check_naive = []\n",
    "\n",
    "for i in range(train.shape[0]):\n",
    "    train_naive = train_naive +[[word_feats(train[\"words\"][i]) , train[\"senti\"][i]]]\n",
    "    #print(train_naive)\n",
    "for i in range(test.shape[0]):\n",
    "    test_naive = test_naive +[[word_feats(test[\"words\"][i]) , test[\"senti\"][i]]]\n",
    "    #print(test_naive)\n",
    "for i in range(check_df.shape[0]):\n",
    "    check_naive = check_naive +[word_feats(check_df[\"words\"][i])]\n",
    "\n",
    "classifier = NaiveBayesClassifier.train(train_naive)\n",
    "print(\"NLTK Naive bayes Accuracy : {}\".format(nltk.classify.util.accuracy(classifier , test_naive)))\n",
    "classifier.show_most_informative_features(20)"
   ]
  },
  {
   "cell_type": "code",
   "execution_count": 16,
   "metadata": {},
   "outputs": [
    {
     "name": "stderr",
     "output_type": "stream",
     "text": [
      "C:\\ProgramData\\Anaconda3\\lib\\site-packages\\ipykernel_launcher.py:13: SettingWithCopyWarning: \n",
      "A value is trying to be set on a copy of a slice from a DataFrame.\n",
      "Try using .loc[row_indexer,col_indexer] = value instead\n",
      "\n",
      "See the caveats in the documentation: http://pandas.pydata.org/pandas-docs/stable/indexing.html#indexing-view-versus-copy\n",
      "  del sys.path[0]\n"
     ]
    }
   ],
   "source": [
    "#predicting result of nltk classifier¶\n",
    "x = []\n",
    "word_list= [test_naive[i][0] for i in range(test.shape[0])]\n",
    "#print(word_list)\n",
    "\n",
    "for i in range(test.shape[0]):\n",
    "    x = x + [classifier.classify(word_list[i] )]\n",
    "prediction[\"Naive\"]= np.asarray(x)\n",
    "\n",
    "x1 = []\n",
    "for i in range(check_df.shape[0]):\n",
    "    x1 = x1 + [classifier.classify(check_naive[i] )]\n",
    "check_df[\"Naive\"] = x1\n",
    "#print(check_df)"
   ]
  },
  {
   "cell_type": "code",
   "execution_count": 17,
   "metadata": {},
   "outputs": [
    {
     "name": "stderr",
     "output_type": "stream",
     "text": [
      "C:\\ProgramData\\Anaconda3\\lib\\site-packages\\sklearn\\feature_extraction\\text.py:385: UserWarning: Your stop_words may be inconsistent with your preprocessing. Tokenizing the stop words generated tokens ['aren', 'couldn', 'didn', 'doesn', 'don', 'hadn', 'hasn', 'haven', 'isn', 'let', 'll', 'mustn', 're', 'shan', 'shouldn', 've', 'wasn', 'weren', 'won', 'wouldn'] not in stop_words.\n",
      "  'stop_words.' % sorted(inconsistent))\n"
     ]
    }
   ],
   "source": [
    "#bulding Countvector and Tfidf vector for train , test ,check data\n",
    "from wordcloud import STOPWORDS\n",
    "\n",
    "from sklearn.feature_extraction.text import TfidfTransformer\n",
    "from sklearn.feature_extraction.text import CountVectorizer\n",
    "stopwords = set(STOPWORDS)\n",
    "stopwords.remove(\"not\")\n",
    "\n",
    "count_vector = CountVectorizer(min_df=2 ,stop_words=stopwords , ngram_range=(1,2)) #converts term frequncy in all docs to a matrix\n",
    "tfidf_transformer = TfidfTransformer()\n",
    "\n",
    "X_train_counts = count_vector.fit_transform(train[\"Summary_Clean\"])        \n",
    "X_train_tfidf = tfidf_transformer.fit_transform(X_train_counts)\n",
    "#print(X_train_tfidf)\n",
    "\n",
    "X_new_counts = count_vector.transform(test[\"Summary_Clean\"])\n",
    "X_test_tfidf = tfidf_transformer.transform(X_new_counts)\n",
    "\n",
    "check_counts = count_vector.transform(check_df[\"Summary_Clean\"])\n",
    "check_tfidf = tfidf_transformer.transform(check_counts)"
   ]
  },
  {
   "cell_type": "code",
   "execution_count": 18,
   "metadata": {},
   "outputs": [
    {
     "name": "stdout",
     "output_type": "stream",
     "text": [
      "Multinomial NB Accuracy : 0.9329963898916968\n"
     ]
    },
    {
     "name": "stderr",
     "output_type": "stream",
     "text": [
      "C:\\ProgramData\\Anaconda3\\lib\\site-packages\\ipykernel_launcher.py:7: SettingWithCopyWarning: \n",
      "A value is trying to be set on a copy of a slice from a DataFrame.\n",
      "Try using .loc[row_indexer,col_indexer] = value instead\n",
      "\n",
      "See the caveats in the documentation: http://pandas.pydata.org/pandas-docs/stable/indexing.html#indexing-view-versus-copy\n",
      "  import sys\n"
     ]
    }
   ],
   "source": [
    "#Fitiing Multinomial NB\n",
    "from sklearn.naive_bayes import MultinomialNB\n",
    "multi_nb_model = MultinomialNB().fit(X_train_tfidf , train[\"senti\"])\n",
    "prediction['Multinomial'] = multi_nb_model.predict_proba(X_test_tfidf)[:,1]\n",
    "print(\"Multinomial NB Accuracy : {}\".format(multi_nb_model.score(X_test_tfidf , test[\"senti\"])))\n",
    "\n",
    "check_df[\"multi\"] = multi_nb_model.predict(check_tfidf)## Predicting Sentiment for Check which was Null values for rating\n",
    "#print(check_df[\"multi\"])"
   ]
  },
  {
   "cell_type": "code",
   "execution_count": 19,
   "metadata": {},
   "outputs": [
    {
     "name": "stdout",
     "output_type": "stream",
     "text": [
      "Bernoulli NB Accuracy : 0.9178339350180506\n"
     ]
    },
    {
     "name": "stderr",
     "output_type": "stream",
     "text": [
      "C:\\ProgramData\\Anaconda3\\lib\\site-packages\\ipykernel_launcher.py:7: SettingWithCopyWarning: \n",
      "A value is trying to be set on a copy of a slice from a DataFrame.\n",
      "Try using .loc[row_indexer,col_indexer] = value instead\n",
      "\n",
      "See the caveats in the documentation: http://pandas.pydata.org/pandas-docs/stable/indexing.html#indexing-view-versus-copy\n",
      "  import sys\n"
     ]
    }
   ],
   "source": [
    "##Fitiing Bernouli NB\n",
    "from sklearn.naive_bayes import BernoulliNB\n",
    "bern_nb_model = BernoulliNB().fit(X_train_tfidf,train[\"senti\"])\n",
    "prediction['Bernoulli'] = bern_nb_model.predict_proba(X_test_tfidf)[:,1]\n",
    "print(\"Bernoulli NB Accuracy : {}\".format(bern_nb_model.score(X_test_tfidf , test[\"senti\"])))\n",
    "\n",
    "check_df[\"Bill\"] = bern_nb_model.predict(check_tfidf)## Predicting Sentiment for Check which was Null values for rating\n",
    "#print(check_df[\"Bill\"])"
   ]
  },
  {
   "cell_type": "code",
   "execution_count": 20,
   "metadata": {},
   "outputs": [
    {
     "name": "stderr",
     "output_type": "stream",
     "text": [
      "C:\\ProgramData\\Anaconda3\\lib\\site-packages\\sklearn\\linear_model\\_logistic.py:940: ConvergenceWarning: lbfgs failed to converge (status=1):\n",
      "STOP: TOTAL NO. of ITERATIONS REACHED LIMIT.\n",
      "\n",
      "Increase the number of iterations (max_iter) or scale the data as shown in:\n",
      "    https://scikit-learn.org/stable/modules/preprocessing.html\n",
      "Please also refer to the documentation for alternative solver options:\n",
      "    https://scikit-learn.org/stable/modules/linear_model.html#logistic-regression\n",
      "  extra_warning_msg=_LOGISTIC_SOLVER_CONVERGENCE_MSG)\n"
     ]
    },
    {
     "name": "stdout",
     "output_type": "stream",
     "text": [
      "Logistic Regression Accuracy : 0.9386281588447654\n"
     ]
    },
    {
     "name": "stderr",
     "output_type": "stream",
     "text": [
      "C:\\ProgramData\\Anaconda3\\lib\\site-packages\\ipykernel_launcher.py:8: SettingWithCopyWarning: \n",
      "A value is trying to be set on a copy of a slice from a DataFrame.\n",
      "Try using .loc[row_indexer,col_indexer] = value instead\n",
      "\n",
      "See the caveats in the documentation: http://pandas.pydata.org/pandas-docs/stable/indexing.html#indexing-view-versus-copy\n",
      "  \n"
     ]
    }
   ],
   "source": [
    "#Fitiing LogisticRegression\n",
    "from sklearn import linear_model\n",
    "log_reg = linear_model.LogisticRegression(solver='lbfgs' , C=1000)\n",
    "logistic_reg = log_reg.fit(X_train_tfidf, train[\"senti\"])\n",
    "prediction['LogisticRegression'] = log_reg.predict_proba(X_test_tfidf)[:,1]\n",
    "print(\"Logistic Regression Accuracy : {}\".format(log_reg.score(X_test_tfidf , test[\"senti\"])))\n",
    "\n",
    "check_df[\"log\"] = log_reg.predict(check_tfidf) ## Predicting Sentiment for Check which was Null values for rating\n",
    "#print(check_df[\"log\"])"
   ]
  },
  {
   "cell_type": "code",
   "execution_count": 21,
   "metadata": {},
   "outputs": [
    {
     "data": {
      "image/png": "[encoded data removed]",
      "text/plain": [
       "<Figure size 432x288 with 1 Axes>"
      ]
     },
     "metadata": {
      "needs_background": "light"
     },
     "output_type": "display_data"
    }
   ],
   "source": [
    "#Classifiers comparaison\n",
    "def formatt(x):\n",
    "    if x == 'neg':\n",
    "        return 0\n",
    "    if x == 0:\n",
    "        return 0\n",
    "    return 1\n",
    "vfunc = np.vectorize(formatt)\n",
    "\n",
    "cmp = 0\n",
    "colors = ['b', 'g', 'y', 'm', 'k']\n",
    "for model, predicted in prediction.items():\n",
    "    if model not in 'Naive':\n",
    "        false_positive_rate, true_positive_rate, thresholds = roc_curve(test[\"senti\"].map(vfunc), predicted)\n",
    "        roc_auc = auc(false_positive_rate, true_positive_rate)\n",
    "        plt.plot(false_positive_rate, true_positive_rate, colors[cmp], label='%s: AUC %0.2f'% (model,roc_auc))\n",
    "        cmp += 1\n",
    "\n",
    "plt.title('Classifiers comparaison with ROC')\n",
    "plt.legend(loc='lower right')\n",
    "plt.plot([0,1],[0,1],'r--')\n",
    "plt.xlim([-0.1,1.2])\n",
    "plt.ylim([-0.1,1.2])\n",
    "plt.ylabel('True Positive Rate')\n",
    "plt.xlabel('False Positive Rate')\n",
    "plt.show()"
   ]
  },
  {
   "cell_type": "code",
   "execution_count": 22,
   "metadata": {},
   "outputs": [
    {
     "name": "stdout",
     "output_type": "stream",
     "text": [
      " Multinomial:\n",
      "              precision    recall  f1-score   support\n",
      "\n",
      "    positive       0.00      0.00      0.00       464\n",
      "    negative       0.93      1.00      0.97      6461\n",
      "\n",
      "    accuracy                           0.93      6925\n",
      "   macro avg       0.47      0.50      0.48      6925\n",
      "weighted avg       0.87      0.93      0.90      6925\n",
      "\n",
      "\n",
      "\n",
      " Bernoulli:\n",
      "              precision    recall  f1-score   support\n",
      "\n",
      "    positive       0.31      0.18      0.23       464\n",
      "    negative       0.94      0.97      0.96      6461\n",
      "\n",
      "    accuracy                           0.92      6925\n",
      "   macro avg       0.63      0.58      0.59      6925\n",
      "weighted avg       0.90      0.92      0.91      6925\n",
      "\n",
      "\n",
      "\n",
      " LogisticRegression:\n",
      "              precision    recall  f1-score   support\n",
      "\n",
      "    positive       0.57      0.33      0.42       464\n",
      "    negative       0.95      0.98      0.97      6461\n",
      "\n",
      "    accuracy                           0.94      6925\n",
      "   macro avg       0.76      0.65      0.69      6925\n",
      "weighted avg       0.93      0.94      0.93      6925\n",
      "\n",
      "\n",
      "\n"
     ]
    },
    {
     "name": "stderr",
     "output_type": "stream",
     "text": [
      "C:\\ProgramData\\Anaconda3\\lib\\site-packages\\sklearn\\metrics\\_classification.py:1272: UndefinedMetricWarning: Precision and F-score are ill-defined and being set to 0.0 in labels with no predicted samples. Use `zero_division` parameter to control this behavior.\n",
      "  _warn_prf(average, modifier, msg_start, len(result))\n"
     ]
    }
   ],
   "source": [
    "#precision and recall of different classifiers\n",
    "test.senti = test.senti.replace([\"pos\" , \"neg\"] , [True , False] )\n",
    "keys = prediction.keys()\n",
    "for key in ['Multinomial', 'Bernoulli', 'LogisticRegression']:\n",
    "    print(\" {}:\".format(key))\n",
    "    print(metrics.classification_report(test[\"senti\"], prediction.get(key)>.5, target_names = [\"positive\", \"negative\"]))\n",
    "    print(\"\\n\")"
   ]
  },
  {
   "cell_type": "code",
   "execution_count": 26,
   "metadata": {},
   "outputs": [
    {
     "name": "stdout",
     "output_type": "stream",
     "text": [
      "Sample estimated as POS: negative prob 0.000000, positive prob 1.000000\n",
      "Sample estimated as NEG: negative prob 0.995168, positive prob 0.004832\n",
      "Sample estimated as NEG: negative prob 0.997188, positive prob 0.002812\n",
      "Sample estimated as POS: negative prob 0.000100, positive prob 0.999900\n"
     ]
    }
   ],
   "source": [
    "#test our classifiers with some handwritten samples\n",
    "def test_sample_review(model, sample):\n",
    "    sample_counts = count_vector.transform([sample])\n",
    "    #print(sample_counts)\n",
    "    sample_tfidf = tfidf_transformer.transform(sample_counts)\n",
    "    #print(sample_tfidf)\n",
    "    review_result = model.predict(sample_tfidf)[0]\n",
    "    #print(review_result)\n",
    "    prob = model.predict_proba(sample_tfidf)[0]\n",
    "    print(\"Sample estimated as %s: negative prob %f, positive prob %f\" % (review_result.upper(), prob[0], prob[1]))\n",
    "\n",
    "test_sample_review(log_reg, \"The product was good and easy to use\")\n",
    "test_sample_review(log_reg, \"The whole experience was horrible and product is worst\")\n",
    "test_sample_review(log_reg, \"product is not good\")\n",
    "test_sample_review(log_reg, \"product is affordable\")"
   ]
  },
  {
   "cell_type": "code",
   "execution_count": 27,
   "metadata": {},
   "outputs": [
    {
     "data": {
      "text/html": [
       "<div>\n",
       "<style scoped>\n",
       "    .dataframe tbody tr th:only-of-type {\n",
       "        vertical-align: middle;\n",
       "    }\n",
       "\n",
       "    .dataframe tbody tr th {\n",
       "        vertical-align: top;\n",
       "    }\n",
       "\n",
       "    .dataframe thead th {\n",
       "        text-align: right;\n",
       "    }\n",
       "</style>\n",
       "<table border=\"1\" class=\"dataframe\">\n",
       "  <thead>\n",
       "    <tr style=\"text-align: right;\">\n",
       "      <th></th>\n",
       "      <th>rating</th>\n",
       "      <th>text</th>\n",
       "      <th>title</th>\n",
       "      <th>username</th>\n",
       "      <th>Summary_Clean</th>\n",
       "      <th>words</th>\n",
       "      <th>Naive</th>\n",
       "      <th>multi</th>\n",
       "      <th>Bill</th>\n",
       "      <th>log</th>\n",
       "    </tr>\n",
       "  </thead>\n",
       "  <tbody>\n",
       "    <tr>\n",
       "      <th>0</th>\n",
       "      <td>NaN</td>\n",
       "      <td>The Kindle is my first e-ink reader. I own an ...</td>\n",
       "      <td>Worth the money. Not perfect, but very very go...</td>\n",
       "      <td>Jeffrey Stanley</td>\n",
       "      <td>the kindle is my first e ink reader i own an i...</td>\n",
       "      <td>[the, kindle, is, my, first, e, ink, reader, i...</td>\n",
       "      <td>neg</td>\n",
       "      <td>pos</td>\n",
       "      <td>neg</td>\n",
       "      <td>pos</td>\n",
       "    </tr>\n",
       "    <tr>\n",
       "      <th>1</th>\n",
       "      <td>NaN</td>\n",
       "      <td>I'm a first-time Kindle owner, so I have nothi...</td>\n",
       "      <td>I Wanted a Dedicated E-Reader, and That's What...</td>\n",
       "      <td>Matthew Coenen</td>\n",
       "      <td>i m a first time kindle owner so i have nothin...</td>\n",
       "      <td>[i, m, a, first, time, kindle, owner, so, i, h...</td>\n",
       "      <td>neg</td>\n",
       "      <td>pos</td>\n",
       "      <td>neg</td>\n",
       "      <td>pos</td>\n",
       "    </tr>\n",
       "    <tr>\n",
       "      <th>2</th>\n",
       "      <td>NaN</td>\n",
       "      <td>UPDATE NOVEMBER 2011:My review is now over a y...</td>\n",
       "      <td>Kindle vs. Nook (updated)</td>\n",
       "      <td>Ron Cronovich</td>\n",
       "      <td>update november my review is now over a year o...</td>\n",
       "      <td>[update, november, my, review, is, now, over, ...</td>\n",
       "      <td>neg</td>\n",
       "      <td>pos</td>\n",
       "      <td>neg</td>\n",
       "      <td>pos</td>\n",
       "    </tr>\n",
       "    <tr>\n",
       "      <th>3</th>\n",
       "      <td>NaN</td>\n",
       "      <td>I'm a first-time Kindle owner, so I have nothi...</td>\n",
       "      <td>I Wanted a Dedicated E-Reader, and That's What...</td>\n",
       "      <td>Matthew Coenen</td>\n",
       "      <td>i m a first time kindle owner so i have nothin...</td>\n",
       "      <td>[i, m, a, first, time, kindle, owner, so, i, h...</td>\n",
       "      <td>neg</td>\n",
       "      <td>pos</td>\n",
       "      <td>neg</td>\n",
       "      <td>pos</td>\n",
       "    </tr>\n",
       "    <tr>\n",
       "      <th>4</th>\n",
       "      <td>NaN</td>\n",
       "      <td>I woke up to a nice surprise this morning: a n...</td>\n",
       "      <td>Not the perfect do-it-all device, but very clo...</td>\n",
       "      <td>C. Tipton</td>\n",
       "      <td>i woke up to a nice surprise this morning a ne...</td>\n",
       "      <td>[i, woke, up, to, a, nice, surprise, this, mor...</td>\n",
       "      <td>neg</td>\n",
       "      <td>pos</td>\n",
       "      <td>neg</td>\n",
       "      <td>pos</td>\n",
       "    </tr>\n",
       "    <tr>\n",
       "      <th>5</th>\n",
       "      <td>NaN</td>\n",
       "      <td>The Kindle is my first e-ink reader. I own an ...</td>\n",
       "      <td>Worth the money. Not perfect, but very very go...</td>\n",
       "      <td>Jeffrey Stanley</td>\n",
       "      <td>the kindle is my first e ink reader i own an i...</td>\n",
       "      <td>[the, kindle, is, my, first, e, ink, reader, i...</td>\n",
       "      <td>neg</td>\n",
       "      <td>pos</td>\n",
       "      <td>neg</td>\n",
       "      <td>pos</td>\n",
       "    </tr>\n",
       "    <tr>\n",
       "      <th>6</th>\n",
       "      <td>NaN</td>\n",
       "      <td>UPDATE NOVEMBER 2011:br /br /My review is now ...</td>\n",
       "      <td>Kindle vs. Nook (updated)</td>\n",
       "      <td>Ron Cronovich</td>\n",
       "      <td>update november br br my review is now over a ...</td>\n",
       "      <td>[update, november, br, br, my, review, is, now...</td>\n",
       "      <td>neg</td>\n",
       "      <td>pos</td>\n",
       "      <td>neg</td>\n",
       "      <td>pos</td>\n",
       "    </tr>\n",
       "    <tr>\n",
       "      <th>7</th>\n",
       "      <td>NaN</td>\n",
       "      <td>I woke up to a nice surprise this morning: a n...</td>\n",
       "      <td>Not the perfect do-it-all device, but very clo...</td>\n",
       "      <td>C. Tipton</td>\n",
       "      <td>i woke up to a nice surprise this morning a ne...</td>\n",
       "      <td>[i, woke, up, to, a, nice, surprise, this, mor...</td>\n",
       "      <td>neg</td>\n",
       "      <td>pos</td>\n",
       "      <td>neg</td>\n",
       "      <td>pos</td>\n",
       "    </tr>\n",
       "    <tr>\n",
       "      <th>8</th>\n",
       "      <td>NaN</td>\n",
       "      <td>I use to hate to read but now that I have my K...</td>\n",
       "      <td>Great</td>\n",
       "      <td>D. Tatro</td>\n",
       "      <td>i use to hate to read but now that i have my k...</td>\n",
       "      <td>[i, use, to, hate, to, read, but, now, that, i...</td>\n",
       "      <td>pos</td>\n",
       "      <td>pos</td>\n",
       "      <td>pos</td>\n",
       "      <td>pos</td>\n",
       "    </tr>\n",
       "    <tr>\n",
       "      <th>9</th>\n",
       "      <td>NaN</td>\n",
       "      <td>All of them quit working. There's absolutely n...</td>\n",
       "      <td>I've had 3!</td>\n",
       "      <td>M. Lansford Kindle fave</td>\n",
       "      <td>all of them quit working there s absolutely no...</td>\n",
       "      <td>[all, of, them, quit, working, there, s, absol...</td>\n",
       "      <td>neg</td>\n",
       "      <td>pos</td>\n",
       "      <td>pos</td>\n",
       "      <td>pos</td>\n",
       "    </tr>\n",
       "  </tbody>\n",
       "</table>\n",
       "</div>"
      ],
      "text/plain": [
       "   rating                                               text  \\\n",
       "0     NaN  The Kindle is my first e-ink reader. I own an ...   \n",
       "1     NaN  I'm a first-time Kindle owner, so I have nothi...   \n",
       "2     NaN  UPDATE NOVEMBER 2011:My review is now over a y...   \n",
       "3     NaN  I'm a first-time Kindle owner, so I have nothi...   \n",
       "4     NaN  I woke up to a nice surprise this morning: a n...   \n",
       "5     NaN  The Kindle is my first e-ink reader. I own an ...   \n",
       "6     NaN  UPDATE NOVEMBER 2011:br /br /My review is now ...   \n",
       "7     NaN  I woke up to a nice surprise this morning: a n...   \n",
       "8     NaN  I use to hate to read but now that I have my K...   \n",
       "9     NaN  All of them quit working. There's absolutely n...   \n",
       "\n",
       "                                               title                 username  \\\n",
       "0  Worth the money. Not perfect, but very very go...          Jeffrey Stanley   \n",
       "1  I Wanted a Dedicated E-Reader, and That's What...           Matthew Coenen   \n",
       "2                          Kindle vs. Nook (updated)            Ron Cronovich   \n",
       "3  I Wanted a Dedicated E-Reader, and That's What...           Matthew Coenen   \n",
       "4  Not the perfect do-it-all device, but very clo...                C. Tipton   \n",
       "5  Worth the money. Not perfect, but very very go...          Jeffrey Stanley   \n",
       "6                          Kindle vs. Nook (updated)            Ron Cronovich   \n",
       "7  Not the perfect do-it-all device, but very clo...                C. Tipton   \n",
       "8                                              Great                 D. Tatro   \n",
       "9                                        I've had 3!  M. Lansford Kindle fave   \n",
       "\n",
       "                                       Summary_Clean  \\\n",
       "0  the kindle is my first e ink reader i own an i...   \n",
       "1  i m a first time kindle owner so i have nothin...   \n",
       "2  update november my review is now over a year o...   \n",
       "3  i m a first time kindle owner so i have nothin...   \n",
       "4  i woke up to a nice surprise this morning a ne...   \n",
       "5  the kindle is my first e ink reader i own an i...   \n",
       "6  update november br br my review is now over a ...   \n",
       "7  i woke up to a nice surprise this morning a ne...   \n",
       "8  i use to hate to read but now that i have my k...   \n",
       "9  all of them quit working there s absolutely no...   \n",
       "\n",
       "                                               words Naive multi Bill  log  \n",
       "0  [the, kindle, is, my, first, e, ink, reader, i...   neg   pos  neg  pos  \n",
       "1  [i, m, a, first, time, kindle, owner, so, i, h...   neg   pos  neg  pos  \n",
       "2  [update, november, my, review, is, now, over, ...   neg   pos  neg  pos  \n",
       "3  [i, m, a, first, time, kindle, owner, so, i, h...   neg   pos  neg  pos  \n",
       "4  [i, woke, up, to, a, nice, surprise, this, mor...   neg   pos  neg  pos  \n",
       "5  [the, kindle, is, my, first, e, ink, reader, i...   neg   pos  neg  pos  \n",
       "6  [update, november, br, br, my, review, is, now...   neg   pos  neg  pos  \n",
       "7  [i, woke, up, to, a, nice, surprise, this, mor...   neg   pos  neg  pos  \n",
       "8  [i, use, to, hate, to, read, but, now, that, i...   pos   pos  pos  pos  \n",
       "9  [all, of, them, quit, working, there, s, absol...   neg   pos  pos  pos  "
      ]
     },
     "execution_count": 27,
     "metadata": {},
     "output_type": "execute_result"
    }
   ],
   "source": [
    "#predicted valuesof classifiers for check dataframe(no ratings) on the basis of review text\n",
    "check_df.head(10)"
   ]
  },
  {
   "cell_type": "code",
   "execution_count": null,
   "metadata": {},
   "outputs": [],
   "source": []
  }
 ],
 "metadata": {
  "kernelspec": {
   "display_name": "Python 3",
   "language": "python",
   "name": "python3"
  },
  "language_info": {
   "codemirror_mode": {
    "name": "ipython",
    "version": 3
   },
   "file_extension": ".py",
   "mimetype": "text/x-python",
   "name": "python",
   "nbconvert_exporter": "python",
   "pygments_lexer": "ipython3",
   "version": "3.7.3"
  }
 },
 "nbformat": 4,
 "nbformat_minor": 2
}
